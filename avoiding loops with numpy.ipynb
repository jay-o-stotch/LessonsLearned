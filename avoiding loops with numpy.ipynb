{
 "cells": [
  {
   "cell_type": "markdown",
   "metadata": {},
   "source": [
    "Avoiding loops with numpy\n",
    "==============\n",
    "\n",
    "Instead of using `for` loops to perform basic matrix or vector computations on different inputs, it is often possible to calculate all results with a single call to a numpy function, which should be much faster than using a `for` loop. For instance, you can replace multiple matrix-vector multiplications by a single matrix-matrix multiplication.\n",
    "\n",
    "In order to get the desired result it might be necessary to transpose the input or output matrixes. This can get a little confusing, especially if you are used to column vectors but want to use row vectors in python instead. This documents provides some information and examples on how to perform multiple matrix and vector computations at once using numpy function.\n",
    "\n",
    "Nomenclature\n",
    "--------------\n",
    "\n",
    "This section describes some basic notation. Matrixes are represented by capital letters (A, B), vectors by lower-case letters a, b. Whenever an index appears twice in a product, this referes to the sum of the product over all instances of the index. $A_{ik} B_{kj} = \\sum_k A_{ik} B_{kj}$.\n",
    "\n",
    "Further:\n",
    "- $ab$: Scalar product of a and b with $ab=a_k b_k$\n",
    "- $AB$: Matrix product of A and B with $(AB)_{ij} = A_{ik}B_{kj}$\n",
    "- $A_{i:}=A[i,:]$: The i-th row vector of the matrix A\n",
    "- $A_{:j}=A[:,j]$: The j-th column vector of the matrix A\n",
    "\n",
    "The dot function\n",
    "-------------------\n",
    "\n",
    "For 1d arrays, the dot function returns the scalar product: ${\\rm dot}(a,b) = a_k b_k$"
   ]
  },
  {
   "cell_type": "code",
   "execution_count": 2,
   "metadata": {},
   "outputs": [
    {
     "data": {
      "text/plain": [
       "8"
      ]
     },
     "execution_count": 2,
     "metadata": {},
     "output_type": "execute_result"
    }
   ],
   "source": [
    "from numpy import array, dot\n",
    "x=array([1,2])\n",
    "y=array([2,3])\n",
    "dot(x,y)"
   ]
  },
  {
   "cell_type": "markdown",
   "metadata": {},
   "source": [
    "For 2d arrays, the dot function returns the matrix product: ${\\rm dot}(A, B)_{ij} = A_{ik}B_{kj}$. Note that the number of columns of $A$ need to be idendical to the number of rows in $B$ and that ${\\rm dot}(A, B)$ has the same number as rows as $A$ and the same number of columns as $B$."
   ]
  },
  {
   "cell_type": "code",
   "execution_count": 3,
   "metadata": {},
   "outputs": [
    {
     "data": {
      "text/plain": [
       "array([[10, 13],\n",
       "       [22, 29]])"
      ]
     },
     "execution_count": 3,
     "metadata": {},
     "output_type": "execute_result"
    }
   ],
   "source": [
    "A=array([[1,2],\n",
    "         [3,4]])\n",
    "B=array([[2,3],\n",
    "         [4,5]])\n",
    "dot(A,B)"
   ]
  },
  {
   "cell_type": "markdown",
   "metadata": {},
   "source": [
    "Note that the element $(AB)_{ij}$ is the scalar product of the i-th row vector of $A$ with the j-th column vector of $B$ and that $(AB)[:,j]$ is the result of the matrix vector multiplication of the matrix $A$ and the j-th column vector of B. "
   ]
  },
  {
   "cell_type": "markdown",
   "metadata": {},
   "source": [
    "Row vectors\n",
    "-------------\n",
    "\n",
    "While in mathematics it is common to work with column vectos, in python you usually want to work with row vectors."
   ]
  },
  {
   "cell_type": "code",
   "execution_count": 4,
   "metadata": {},
   "outputs": [
    {
     "data": {
      "text/plain": [
       "array([1, 2])"
      ]
     },
     "execution_count": 4,
     "metadata": {},
     "output_type": "execute_result"
    }
   ],
   "source": [
    "A=array([[1,2],\n",
    "         [3,4]])\n",
    "A[0] #Return first row vector"
   ]
  },
  {
   "cell_type": "code",
   "execution_count": 5,
   "metadata": {},
   "outputs": [
    {
     "data": {
      "text/plain": [
       "array([1, 3])"
      ]
     },
     "execution_count": 5,
     "metadata": {},
     "output_type": "execute_result"
    }
   ],
   "source": [
    "A[:,0] #Return first column vector"
   ]
  },
  {
   "cell_type": "markdown",
   "metadata": {},
   "source": [
    "Scalar product\n",
    "----------------\n",
    "\n",
    "The array $M$ with matrix element $M_{ij} = a_i b_j$ can be computed from the arrays A and B composed of the row vectors $a_i$ and $b_i$, respectively, with: $M={\\rm dot}(A,B.T)$."
   ]
  },
  {
   "cell_type": "code",
   "execution_count": 6,
   "metadata": {},
   "outputs": [
    {
     "data": {
      "text/plain": [
       "array([[ 8, 14],\n",
       "       [18, 32]])"
      ]
     },
     "execution_count": 6,
     "metadata": {},
     "output_type": "execute_result"
    }
   ],
   "source": [
    "A=array([[1,2],\n",
    "         [3,4]])\n",
    "B=array([[2,3],\n",
    "         [4,5]])\n",
    "dot(A, B.T)"
   ]
  },
  {
   "cell_type": "markdown",
   "metadata": {},
   "source": [
    "In order to compute the scalar products of a single vector v and multiple vectors $b_i$ simply use: $M={\\rm dot}(v, B.T)$"
   ]
  },
  {
   "cell_type": "code",
   "execution_count": 7,
   "metadata": {},
   "outputs": [
    {
     "data": {
      "text/plain": [
       "array([ 8, 14])"
      ]
     },
     "execution_count": 7,
     "metadata": {},
     "output_type": "execute_result"
    }
   ],
   "source": [
    "v=array([1,2])\n",
    "B=array([[2,3],\n",
    "         [4,5]])\n",
    "dot(v, B.T)"
   ]
  },
  {
   "cell_type": "markdown",
   "metadata": {},
   "source": [
    "Matrix-vector multiplication\n",
    "--------------------------------\n",
    "\n",
    "The array $M$ with row vectors $M[i,:]=A b_i$ can be computed from the array B with row vectors $b_i$ with $M = {\\rm dot}(B, A.T)$"
   ]
  },
  {
   "cell_type": "code",
   "execution_count": 8,
   "metadata": {},
   "outputs": [
    {
     "data": {
      "text/plain": [
       "array([[ 8, 18],\n",
       "       [14, 32]])"
      ]
     },
     "execution_count": 8,
     "metadata": {},
     "output_type": "execute_result"
    }
   ],
   "source": [
    "A = array([[1, 2],\n",
    "           [3, 4]])\n",
    "B = array([[2, 3],\n",
    "           [4, 5]])\n",
    "dot(B, A.T)"
   ]
  },
  {
   "cell_type": "markdown",
   "metadata": {},
   "source": [
    "Scalar-vector multiplication (n to 1)\n",
    "-------------------------------------------\n",
    "\n",
    "The array $M$ with row vectors $M[i,:] = \\alpha_i v$ can be calculated from the vector $a$ with $a_i = \\alpha_i$ with $M = {\\rm dot}({\\rm vstack}(a), {\\rm vstack}(v).T)$. Alternatively, you may also compute $M = {\\rm dot}({\\rm vstack}(a), {\\rm matrix}(v).T)$. However, this will return a matrix instead of an array object."
   ]
  },
  {
   "cell_type": "code",
   "execution_count": 9,
   "metadata": {},
   "outputs": [
    {
     "data": {
      "text/plain": [
       "array([[2, 4],\n",
       "       [3, 6]])"
      ]
     },
     "execution_count": 9,
     "metadata": {},
     "output_type": "execute_result"
    }
   ],
   "source": [
    "from numpy import vstack, newaxis\n",
    "a = array([2, 3])\n",
    "v = array([1, 2])\n",
    "dot(vstack(a), v[newaxis])"
   ]
  },
  {
   "cell_type": "markdown",
   "metadata": {},
   "source": [
    "Note that simple writing $a.T$ won't have an effect for a one dimensional array. Instead you may use $a[newaxis].T$ or ${\\rm vstack}(a)$ as in the example above."
   ]
  },
  {
   "cell_type": "markdown",
   "metadata": {
    "collapsed": true
   },
   "source": [
    "Scalar-vector multiplication (1 to 1)\n",
    "--------------------------------------------\n",
    "\n",
    "The array M with row vectors $M[i,:]=\\alpha_i b_i$ can be caluclated from the vector $a$ with $a_i=\\alpha_i$ and the array $B$ with row vector $b_i$ with $M={\\rm vstack}(a)*B$."
   ]
  },
  {
   "cell_type": "code",
   "execution_count": 10,
   "metadata": {},
   "outputs": [
    {
     "data": {
      "text/plain": [
       "array([[1, 2],\n",
       "       [4, 6]])"
      ]
     },
     "execution_count": 10,
     "metadata": {},
     "output_type": "execute_result"
    }
   ],
   "source": [
    "from numpy import array, vstack\n",
    "a=array([1,2])\n",
    "B=array([[1,2],[2,3]])\n",
    "vstack(a) * B"
   ]
  },
  {
   "cell_type": "code",
   "execution_count": null,
   "metadata": {
    "collapsed": true
   },
   "outputs": [],
   "source": []
  }
 ],
 "metadata": {
  "kernelspec": {
   "display_name": "Python 3",
   "language": "python",
   "name": "python3"
  },
  "language_info": {
   "codemirror_mode": {
    "name": "ipython",
    "version": 3
   },
   "file_extension": ".py",
   "mimetype": "text/x-python",
   "name": "python",
   "nbconvert_exporter": "python",
   "pygments_lexer": "ipython3",
   "version": "3.5.3"
  }
 },
 "nbformat": 4,
 "nbformat_minor": 2
}
